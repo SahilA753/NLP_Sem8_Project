{
 "cells": [
  {
   "cell_type": "code",
   "execution_count": 1,
   "id": "d2775f42",
   "metadata": {},
   "outputs": [
    {
     "name": "stdout",
     "output_type": "stream",
     "text": [
      "   Sr No.                                          Utterance          Speaker  \\\n",
      "0       1  also I was the point person on my company’s tr...         Chandler   \n",
      "1       2                   You must’ve had your hands full.  The Interviewer   \n",
      "2       3                            That I did. That I did.         Chandler   \n",
      "3       4      So let’s talk a little bit about your duties.  The Interviewer   \n",
      "4       5                             My duties?  All right.         Chandler   \n",
      "\n",
      "    Emotion Sentiment  Dialogue_ID  Utterance_ID  Season  Episode  \\\n",
      "0   neutral   neutral            0             0       8       21   \n",
      "1   neutral   neutral            0             1       8       21   \n",
      "2   neutral   neutral            0             2       8       21   \n",
      "3   neutral   neutral            0             3       8       21   \n",
      "4  surprise  positive            0             4       8       21   \n",
      "\n",
      "      StartTime       EndTime  \\\n",
      "0  00:16:16,059  00:16:21,731   \n",
      "1  00:16:21,940  00:16:23,442   \n",
      "2  00:16:23,442  00:16:26,389   \n",
      "3  00:16:26,820  00:16:29,572   \n",
      "4  00:16:34,452  00:16:40,917   \n",
      "\n",
      "                                           VideoPath  \\\n",
      "0  C:\\Users\\Owner\\Desktop\\Friends\\Friends_Clips\\v...   \n",
      "1  C:\\Users\\Owner\\Desktop\\Friends\\Friends_Clips\\v...   \n",
      "2  C:\\Users\\Owner\\Desktop\\Friends\\Friends_Clips\\v...   \n",
      "3  C:\\Users\\Owner\\Desktop\\Friends\\Friends_Clips\\v...   \n",
      "4  C:\\Users\\Owner\\Desktop\\Friends\\Friends_Clips\\v...   \n",
      "\n",
      "                                           AudioPath    Label  \n",
      "0  C:\\Users\\Owner\\Desktop\\Friends\\Friends_Clips\\a...  neutral  \n",
      "1  C:\\Users\\Owner\\Desktop\\Friends\\Friends_Clips\\a...  neutral  \n",
      "2  C:\\Users\\Owner\\Desktop\\Friends\\Friends_Clips\\a...  neutral  \n",
      "3  C:\\Users\\Owner\\Desktop\\Friends\\Friends_Clips\\a...  neutral  \n",
      "4  C:\\Users\\Owner\\Desktop\\Friends\\Friends_Clips\\a...  neutral  \n"
     ]
    }
   ],
   "source": [
    "import pandas as pd\n",
    "\n",
    "# Load the three files\n",
    "file1 = pd.read_csv(\"output_with_paths.csv\")\n",
    "file2 = pd.read_csv(\"output_with_paths_dev.csv\")\n",
    "file3 = pd.read_csv(\"output_with_paths_test.csv\")\n",
    "\n",
    "# Adjust Dialogue_IDs in file2\n",
    "max_id_1 = file1['Dialogue_ID'].max()\n",
    "file2['Dialogue_ID'] += max_id_1\n",
    "\n",
    "# Adjust Dialogue_IDs in file3\n",
    "max_id_2 = file2['Dialogue_ID'].max()\n",
    "file3['Dialogue_ID'] += max_id_2\n",
    "\n",
    "# Concatenate the three DataFrames\n",
    "combined = pd.concat([file1, file2, file3], ignore_index=True)\n",
    "\n",
    "# Save to a new CSV if needed\n",
    "combined.to_csv(\"combined_file.csv\", index=False)\n",
    "\n",
    "# Optional: Print first few rows to confirm\n",
    "print(combined.head())\n"
   ]
  },
  {
   "cell_type": "code",
   "execution_count": null,
   "id": "990cef95",
   "metadata": {},
   "outputs": [
    {
     "name": "stdout",
     "output_type": "stream",
     "text": [
      "                                           VideoPath  \\\n",
      "0  \\home\\klad\\Desktop\\Friends\\Friends_Clips\\video...   \n",
      "1  \\home\\klad\\Desktop\\Friends\\Friends_Clips\\video...   \n",
      "2  \\home\\klad\\Desktop\\Friends\\Friends_Clips\\video...   \n",
      "3  \\home\\klad\\Desktop\\Friends\\Friends_Clips\\video...   \n",
      "4  \\home\\klad\\Desktop\\Friends\\Friends_Clips\\video...   \n",
      "\n",
      "                                           AudioPath  \n",
      "0  \\home\\klad\\Desktop\\Friends\\Friends_Clips\\audio...  \n",
      "1  \\home\\klad\\Desktop\\Friends\\Friends_Clips\\audio...  \n",
      "2  \\home\\klad\\Desktop\\Friends\\Friends_Clips\\audio...  \n",
      "3  \\home\\klad\\Desktop\\Friends\\Friends_Clips\\audio...  \n",
      "4  \\home\\klad\\Desktop\\Friends\\Friends_Clips\\audio...  \n"
     ]
    }
   ],
   "source": [
    "import pandas as pd\n",
    "\n",
    "# Load your CSV\n",
    "df = pd.read_csv(\"combined_file.csv\")\n",
    "\n",
    "# Use double backslashes for proper string matching\n",
    "old_root = \"C:\\\\Users\\\\Owner\\\\Desktop\\\\\"\n",
    "new_root = \"\\\\home\\\\klad\\\\Desktop\\\\\"\n",
    "\n",
    "# Replace in both columns\n",
    "df['VideoPath'] = df['VideoPath'].str.replace(old_root, new_root, regex=False)\n",
    "df['AudioPath'] = df['AudioPath'].str.replace(old_root, new_root, regex=False)\n",
    "\n",
    "# Save the updated file\n",
    "df.to_csv(\"updated_paths.csv\", index=False)\n",
    "\n",
    "# Print to verify\n",
    "print(df[['VideoPath', 'AudioPath']].head())\n"
   ]
  },
  {
   "cell_type": "code",
   "execution_count": 5,
   "id": "2a03f51a",
   "metadata": {},
   "outputs": [
    {
     "name": "stdout",
     "output_type": "stream",
     "text": [
      "Number of unique Dialogue_IDs with at least one 'anger' utterance: 641\n"
     ]
    }
   ],
   "source": [
    "import pandas as pd\n",
    "\n",
    "# Load your dataset with appropriate encoding\n",
    "df = pd.read_csv(\"/home/klad/Desktop/Friends/updated_paths.csv\", encoding='ISO-8859-1')\n",
    "\n",
    "# Step 1: Get Dialogue_IDs where at least one utterance has 'anger' emotion\n",
    "anger_ids = df[df['Emotion'].str.lower() == 'anger']['Dialogue_ID'].unique()\n",
    "\n",
    "# Step 2: Filter all rows with those Dialogue_IDs\n",
    "anger_dialogues = df[df['Dialogue_ID'].isin(anger_ids)]\n",
    "\n",
    "# Output result\n",
    "print(\"Number of unique Dialogue_IDs with at least one 'anger' utterance:\", len(anger_ids))\n",
    "\n",
    "# Save to CSV\n",
    "anger_dialogues.to_csv(\"/home/klad/Desktop/Friends/final.csv\", index=False)\n"
   ]
  },
  {
   "cell_type": "code",
   "execution_count": 1,
   "id": "5389463e",
   "metadata": {},
   "outputs": [
    {
     "name": "stdout",
     "output_type": "stream",
     "text": [
      "Backslashes replaced and saved to fixed_paths.csv\n"
     ]
    }
   ],
   "source": [
    "import pandas as pd\n",
    "\n",
    "# Load your CSV\n",
    "df = pd.read_csv(\"final.csv\")  # Replace with actual filename\n",
    "\n",
    "# Replace backslashes with forward slashes in VideoPath and AudioPath\n",
    "df[\"VideoPath\"] = df[\"VideoPath\"].str.replace(\"\\\\\", \"/\", regex=False)\n",
    "df[\"AudioPath\"] = df[\"AudioPath\"].str.replace(\"\\\\\", \"/\", regex=False)\n",
    "\n",
    "# Save the updated CSV\n",
    "df.to_csv(\"final.csv\", index=False)\n",
    "\n",
    "print(\"Backslashes replaced and saved to fixed_paths.csv\")\n"
   ]
  },
  {
   "cell_type": "code",
   "execution_count": 1,
   "id": "8bce47a2",
   "metadata": {},
   "outputs": [
    {
     "name": "stdout",
     "output_type": "stream",
     "text": [
      "Torch version: 2.5.1+cu121\n",
      "CUDA available: True\n",
      "CUDA device name: NVIDIA GeForce RTX 3050 Laptop GPU\n"
     ]
    }
   ],
   "source": [
    "import torch\n",
    "\n",
    "print(\"Torch version:\", torch.__version__)\n",
    "print(\"CUDA available:\", torch.cuda.is_available())\n",
    "print(\"CUDA device name:\", torch.cuda.get_device_name(0) if torch.cuda.is_available() else \"No GPU found\")\n"
   ]
  },
  {
   "cell_type": "code",
   "execution_count": 2,
   "id": "997785e7",
   "metadata": {},
   "outputs": [
    {
     "name": "stderr",
     "output_type": "stream",
     "text": [
      "2025-04-13 00:35:03.051161: I tensorflow/core/util/port.cc:153] oneDNN custom operations are on. You may see slightly different numerical results due to floating-point round-off errors from different computation orders. To turn them off, set the environment variable `TF_ENABLE_ONEDNN_OPTS=0`.\n",
      "2025-04-13 00:35:03.239545: E external/local_xla/xla/stream_executor/cuda/cuda_fft.cc:467] Unable to register cuFFT factory: Attempting to register factory for plugin cuFFT when one has already been registered\n",
      "WARNING: All log messages before absl::InitializeLog() is called are written to STDERR\n",
      "E0000 00:00:1744484703.327540  351508 cuda_dnn.cc:8579] Unable to register cuDNN factory: Attempting to register factory for plugin cuDNN when one has already been registered\n",
      "E0000 00:00:1744484703.355987  351508 cuda_blas.cc:1407] Unable to register cuBLAS factory: Attempting to register factory for plugin cuBLAS when one has already been registered\n",
      "W0000 00:00:1744484703.532798  351508 computation_placer.cc:177] computation placer already registered. Please check linkage and avoid linking the same target more than once.\n",
      "W0000 00:00:1744484703.532874  351508 computation_placer.cc:177] computation placer already registered. Please check linkage and avoid linking the same target more than once.\n",
      "W0000 00:00:1744484703.532879  351508 computation_placer.cc:177] computation placer already registered. Please check linkage and avoid linking the same target more than once.\n",
      "W0000 00:00:1744484703.532883  351508 computation_placer.cc:177] computation placer already registered. Please check linkage and avoid linking the same target more than once.\n",
      "2025-04-13 00:35:03.557069: I tensorflow/core/platform/cpu_feature_guard.cc:210] This TensorFlow binary is optimized to use available CPU instructions in performance-critical operations.\n",
      "To enable the following instructions: AVX2 AVX_VNNI FMA, in other operations, rebuild TensorFlow with the appropriate compiler flags.\n"
     ]
    },
    {
     "name": "stdout",
     "output_type": "stream",
     "text": [
      "TensorFlow version: 2.19.0\n",
      "GPU available: [PhysicalDevice(name='/physical_device:GPU:0', device_type='GPU')]\n",
      "[name: \"/device:CPU:0\"\n",
      "device_type: \"CPU\"\n",
      "memory_limit: 268435456\n",
      "locality {\n",
      "}\n",
      "incarnation: 2786733921407583546\n",
      "xla_global_id: -1\n",
      ", name: \"/device:GPU:0\"\n",
      "device_type: \"GPU\"\n",
      "memory_limit: 2388852736\n",
      "locality {\n",
      "  bus_id: 1\n",
      "  links {\n",
      "  }\n",
      "}\n",
      "incarnation: 1959263455404955909\n",
      "physical_device_desc: \"device: 0, name: NVIDIA GeForce RTX 3050 Laptop GPU, pci bus id: 0000:01:00.0, compute capability: 8.6\"\n",
      "xla_global_id: 416903419\n",
      "]\n"
     ]
    },
    {
     "name": "stderr",
     "output_type": "stream",
     "text": [
      "I0000 00:00:1744484707.833151  351508 gpu_device.cc:2019] Created device /device:GPU:0 with 2278 MB memory:  -> device: 0, name: NVIDIA GeForce RTX 3050 Laptop GPU, pci bus id: 0000:01:00.0, compute capability: 8.6\n"
     ]
    }
   ],
   "source": [
    "import tensorflow as tf\n",
    "\n",
    "print(\"TensorFlow version:\", tf.__version__)\n",
    "print(\"GPU available:\", tf.config.list_physical_devices('GPU'))\n",
    "\n",
    "# Optional: Check detailed GPU info\n",
    "from tensorflow.python.client import device_lib\n",
    "print(device_lib.list_local_devices())\n"
   ]
  },
  {
   "cell_type": "code",
   "execution_count": null,
   "id": "351d0236",
   "metadata": {},
   "outputs": [],
   "source": []
  }
 ],
 "metadata": {
  "kernelspec": {
   "display_name": "main",
   "language": "python",
   "name": "python3"
  },
  "language_info": {
   "codemirror_mode": {
    "name": "ipython",
    "version": 3
   },
   "file_extension": ".py",
   "mimetype": "text/x-python",
   "name": "python",
   "nbconvert_exporter": "python",
   "pygments_lexer": "ipython3",
   "version": "3.9.18"
  }
 },
 "nbformat": 4,
 "nbformat_minor": 5
}
